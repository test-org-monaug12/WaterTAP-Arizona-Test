{
 "cells": [
  {
   "cell_type": "markdown",
   "metadata": {
    "scrolled": true,
    "slideshow": {
     "slide_type": "slide"
    }
   },
   "source": [
    "\n",
    "# Incorporating OLI Calculations with WaterTAP\n",
    "\n",
    "#### Contact: Paul Vecchiarelli (paul.vecchiarelli@nrel.gov)\n",
    "\n",
    "This tutorial will demonstrate basic usage of OLI Cloud calls using our custom API tools."
   ]
  },
  {
   "cell_type": "markdown",
   "metadata": {
    "slideshow": {
     "slide_type": "slide"
    }
   },
   "source": [
    "## Rationale\n",
    "\n",
    " - Simulations for realistic water sources are mathematically complex: \n",
    " > $ Interactions \\ge Cations * Anions$\n",
    " - OLI improves WaterTAP approximations and offloads computational resources"
   ]
  },
  {
   "cell_type": "markdown",
   "metadata": {
    "slideshow": {
     "slide_type": "slide"
    }
   },
   "source": [
    "## Required OLI API Inputs\n",
    "\n",
    "\n",
    " - State variables (solute concentrations, temperature, pressure), which can beextracted from a state block\n",
    " \n",
    " - Login credentials\n",
    " \n",
    " - A chemistry (*.dbs) file\n",
    "     - establishes state variables, phases, etc. to be considered in flash calls"
   ]
  },
  {
   "cell_type": "code",
   "execution_count": null,
   "metadata": {
    "slideshow": {
     "slide_type": "slide"
    }
   },
   "outputs": [],
   "source": [
    "# used to specify state/convert variables\n",
    "from pyomo.environ import units as pyunits\n",
    "\n",
    "# used to build survey lists\n",
    "from numpy import linspace\n",
    "\n",
    "# used to execute OLI Cloud functions\n",
    "from watertap.tools.oli_api.flash import Flash\n",
    "from watertap.tools.oli_api.credentials import CredentialManager\n",
    "from watertap.tools.oli_api.client import OLIApi"
   ]
  },
  {
   "cell_type": "markdown",
   "metadata": {
    "slideshow": {
     "slide_type": "slide"
    }
   },
   "source": [
    "# 1. Specify State Variables.\n",
    "\n",
    "- This data is used to construct inputs to OLI Cloud\n",
    "- Same basic information is required by Water Analysis and Isothermal flashes (temperature, pressure, solutes)"
   ]
  },
  {
   "cell_type": "code",
   "execution_count": null,
   "metadata": {
    "slideshow": {
     "slide_type": "subslide"
    }
   },
   "outputs": [],
   "source": [
    "state_vars = {\n",
    "    \"temperature\": 298.15,\n",
    "    \"pressure\": 101325,\n",
    "    \"components\": {\n",
    "        \"Na_+\": 1e3,\n",
    "        \"Cl_-\": 1e3\n",
    "    },\n",
    "    \"units\": {\n",
    "        \"temperature\": pyunits.K,\n",
    "        \"pressure\": pyunits.Pa,\n",
    "        \"components\": pyunits.mg / pyunits.L,\n",
    "    },\n",
    "}"
   ]
  },
  {
   "cell_type": "markdown",
   "metadata": {
    "slideshow": {
     "slide_type": "slide"
    }
   },
   "source": [
    "# 2. Initialize Flash Instance.\n",
    "\n",
    " - We will run most of our methods with this class"
   ]
  },
  {
   "cell_type": "code",
   "execution_count": null,
   "metadata": {},
   "outputs": [],
   "source": [
    "f = Flash()"
   ]
  },
  {
   "cell_type": "markdown",
   "metadata": {
    "slideshow": {
     "slide_type": "slide"
    }
   },
   "source": [
    "# 3. Get Survey Parameters.\n",
    "\n",
    " - In this example, we will generate a temperature sweep survey"
   ]
  },
  {
   "cell_type": "code",
   "execution_count": null,
   "metadata": {
    "scrolled": true,
    "slideshow": {
     "slide_type": "subslide"
    }
   },
   "outputs": [],
   "source": [
    "# a survey will sweep through one or more variables simultaneously\n",
    "survey = f.build_survey(\n",
    "    {\"Na_+\": linspace(0, 1e5, 10)},\n",
    "    get_oli_names=True,\n",
    "    file_name=\"test_survey\",\n",
    ")"
   ]
  },
  {
   "cell_type": "code",
   "execution_count": null,
   "metadata": {},
   "outputs": [],
   "source": [
    "# individual sample points can be accessed to see what will be modified\n",
    "samples = range(0,10,2)\n",
    "survey_points = f.get_survey_sample_conditions(survey, samples)\n",
    "f.write_output(survey_points, \"test_survey_points\")"
   ]
  },
  {
   "cell_type": "markdown",
   "metadata": {
    "slideshow": {
     "slide_type": "slide"
    }
   },
   "source": [
    "# 4. Login to OLI Cloud.\n",
    "\n",
    "- The following code demonstrates an OLI Cloud login:"
   ]
  },
  {
   "cell_type": "code",
   "execution_count": null,
   "metadata": {
    "slideshow": {
     "slide_type": "fragment"
    }
   },
   "outputs": [],
   "source": [
    "try:\n",
    "    # credentials are entered here\n",
    "    # up to 5 access keys per user can be generated\n",
    "    # CredentialManager can save login information and access keys\n",
    "    credential_manager = CredentialManager(\n",
    "        username=\"\", # requires password, root_url, and auth_url\n",
    "        password=\"\", # required with username login only\n",
    "        root_url=\"\", # required with username and access key login\n",
    "        auth_url=\"\", # required with username login only\n",
    "        access_keys=[], # only requires root_url\n",
    "    )\n",
    "except (OSError, ConnectionError) as e:\n",
    "    print(e)\n",
    "    credential_manager = None"
   ]
  },
  {
   "cell_type": "markdown",
   "metadata": {
    "slideshow": {
     "slide_type": "slide"
    }
   },
   "source": [
    "# 5. Create *.dbs File and 6. Get Output"
   ]
  },
  {
   "cell_type": "code",
   "execution_count": null,
   "metadata": {
    "scrolled": false,
    "slideshow": {
     "slide_type": "fragment"
    }
   },
   "outputs": [],
   "source": [
    "if credential_manager:\n",
    "    # OLIApi is used as a context manager\n",
    "    with OLIApi(credential_manager) as oliapi:\n",
    "        # create a new DBS file\n",
    "        # alternative thermo_frameworks and private_databanks are available\n",
    "        dbs_file_id = oliapi.get_dbs_file_id(\n",
    "            state_vars[\"components\"],\n",
    "            thermo_framework=\"MSE (H3O+ ion)\",\n",
    "            private_databanks=[\"XSC\"],\n",
    "            phases=[\"liquid1\", \"solid\"], # liquid2 (non-aqueous) and vapor phases can also be investigated\n",
    "            model_name=\"test\",\n",
    "        )\n",
    "        \n",
    "        # get a summary of the DBS file\n",
    "        file_summary = oliapi.get_dbs_file_summary(dbs_file_id)\n",
    "        \n",
    "        # save chemistry information\n",
    "        chemistry_info = file_summary[\"chemistry_info\"]\n",
    "        f.write_output(chemistry_info[\"result\"], \"chemistry_info\")\n",
    "        \n",
    "        # create water analysis input\n",
    "        # Water Analysis uses true species for inputs, i.e., IONS\n",
    "        stream_input = f.build_flash_calculation_input(\n",
    "            \"wateranalysis\",\n",
    "            state_vars,\n",
    "            file_name=\"test_water_analysis_input\",\n",
    "        )    \n",
    "        # run Water Analysis flash calculation survey as specified        \n",
    "        stream_output = f.run_flash(\n",
    "            \"wateranalysis\",\n",
    "            oliapi,\n",
    "            dbs_file_id,\n",
    "            stream_input,\n",
    "            survey,\n",
    "            file_name=\"test_water_analysis_survey_output\"\n",
    "        )\n",
    "        # The output of Water Analysis gives apparent species\n",
    "        # i.e., SALTS, COMPLEXES (MgO, CaO, etc.)\n",
    "        \n",
    "        # Other flash calculations use apparent species for inputs\n",
    "        # get_inflows extracts Water Analysis outputs to use with Isothermal flash\n",
    "        # these apparent species can be saved to a file and reloaded as needed\n",
    "        isothermal_inflows = f.get_inflows(\n",
    "            stream_output,\n",
    "            file_name=\"isothermal_inflows\",\n",
    "        )\n",
    "        isothermal_input = f.build_flash_calculation_input(\n",
    "            \"isothermal\",\n",
    "            isothermal_inflows,\n",
    "            file_name=f\"isothermal_input\",\n",
    "        )\n",
    "        # specify a new survey to compare apparent species\n",
    "        isothermal_survey = f.build_survey(\n",
    "            {\"NaCl\": linspace(0, 1e6, 10)},\n",
    "            get_oli_names=True,\n",
    "            file_name=\"test_isothermal_survey\",\n",
    "        )\n",
    "        isothermal_output = f.run_flash(\n",
    "            \"isothermal\",\n",
    "            oliapi,\n",
    "            dbs_file_id,\n",
    "            isothermal_inflows,\n",
    "            isothermal_survey,\n",
    "        file_name=f\"{method}_output\",\n",
    "    )\n"
   ]
  },
  {
   "cell_type": "markdown",
   "metadata": {
    "slideshow": {
     "slide_type": "slide"
    }
   },
   "source": [
    "# 7. Extract Filtered Output\n",
    "\n",
    " - OLI's output is robust, so WaterTAP enables printing selected results:"
   ]
  },
  {
   "cell_type": "code",
   "execution_count": null,
   "metadata": {
    "slideshow": {
     "slide_type": "subslide"
    }
   },
   "outputs": [],
   "source": [
    "if credential_manager:\n",
    "    # extract properties from OLI flash survey output\n",
    "    properties = [\n",
    "        \"prescalingTendencies\",\n",
    "        \"molecularConcentration\",\n",
    "    ]\n",
    "    # data can be saved as a JSON file for further review and analysis\n",
    "    water_analysis_extract = f.extract_properties(\n",
    "        stream_output,\n",
    "        properties=properties,\n",
    "        file_name=\"water_analysis_extract\",\n",
    "    )\n",
    "    isothermal_extract = f.extract_properties(\n",
    "    isothermal_output,\n",
    "    properties=properties,\n",
    "    file_name=\"isothermal_extract\",\n",
    ")"
   ]
  }
 ],
 "metadata": {
  "celltoolbar": "Slideshow",
  "kernelspec": {
   "display_name": "watertap-dev",
   "language": "python",
   "name": "watertap-dev"
  },
  "language_info": {
   "codemirror_mode": {
    "name": "ipython",
    "version": 3
   },
   "file_extension": ".py",
   "mimetype": "text/x-python",
   "name": "python",
   "nbconvert_exporter": "python",
   "pygments_lexer": "ipython3",
   "version": "3.8.16"
  }
 },
 "nbformat": 4,
 "nbformat_minor": 2
}
